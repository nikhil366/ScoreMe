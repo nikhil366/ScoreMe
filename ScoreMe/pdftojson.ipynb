{
 "metadata": {
  "orig_nbformat": 2,
  "kernelspec": {
   "name": "python3",
   "display_name": "Python 3",
   "language": "python"
  }
 },
 "nbformat": 4,
 "nbformat_minor": 2,
 "cells": [
  {
   "cell_type": "code",
   "execution_count": 2,
   "metadata": {},
   "outputs": [
    {
     "output_type": "stream",
     "name": "stdout",
     "text": [
      "Requirement already satisfied: PyPDF2 in /home/nikhil/Desktop/GazeTrack/venv/lib/python3.8/site-packages (1.26.0)\n"
     ]
    }
   ],
   "source": [
    "!pip install PyPDF2"
   ]
  },
  {
   "cell_type": "code",
   "execution_count": 3,
   "metadata": {},
   "outputs": [],
   "source": [
    "import PyPDF2"
   ]
  },
  {
   "cell_type": "code",
   "execution_count": 4,
   "metadata": {},
   "outputs": [],
   "source": [
    "pdfFileObj = open('tst_json.pdf', 'rb') "
   ]
  },
  {
   "cell_type": "code",
   "execution_count": 7,
   "metadata": {},
   "outputs": [
    {
     "output_type": "execute_result",
     "data": {
      "text/plain": [
       "<PyPDF2.pdf.PdfFileReader at 0x7f6dbb4de880>"
      ]
     },
     "metadata": {},
     "execution_count": 7
    }
   ],
   "source": [
    "pdfReader = PyPDF2.PdfFileReader(pdfFileObj) \n",
    "pdfReader"
   ]
  },
  {
   "cell_type": "code",
   "execution_count": 8,
   "metadata": {},
   "outputs": [
    {
     "output_type": "stream",
     "name": "stdout",
     "text": [
      "5\n"
     ]
    }
   ],
   "source": [
    "print(pdfReader.numPages) "
   ]
  },
  {
   "cell_type": "code",
   "execution_count": 18,
   "metadata": {},
   "outputs": [],
   "source": [
    "pageObj = pdfReader.getPage(1) "
   ]
  },
  {
   "cell_type": "code",
   "execution_count": 20,
   "metadata": {},
   "outputs": [],
   "source": [
    "pageObj_02 = pdfReader.getPage(2)"
   ]
  },
  {
   "cell_type": "code",
   "execution_count": 22,
   "metadata": {},
   "outputs": [],
   "source": [
    "pageObj_03 = pdfReader.getPage(3)"
   ]
  },
  {
   "cell_type": "code",
   "execution_count": 23,
   "metadata": {},
   "outputs": [
    {
     "output_type": "stream",
     "name": "stdout",
     "text": [
      "{'/Resources': IndirectObject(12, 0), '/Type': '/Page', '/MediaBox': [0, 0, 595.275, 841.889], '/CropBox': [0, 0, 595.275, 841.889], '/BleedBox': [0, 0, 595.275, 841.889], '/TrimBox': [0, 0, 595.275, 841.889], '/Parent': IndirectObject(13, 0), '/Contents': IndirectObject(17, 0)}\n{'/Resources': IndirectObject(12, 0), '/Type': '/Page', '/MediaBox': [0, 0, 595.275, 841.889], '/CropBox': [0, 0, 595.275, 841.889], '/BleedBox': [0, 0, 595.275, 841.889], '/TrimBox': [0, 0, 595.275, 841.889], '/Parent': IndirectObject(13, 0), '/Contents': IndirectObject(20, 0)}\n"
     ]
    }
   ],
   "source": [
    "print(pageObj_02)\n",
    "print(pageObj_03)"
   ]
  },
  {
   "cell_type": "code",
   "execution_count": 24,
   "metadata": {},
   "outputs": [
    {
     "output_type": "stream",
     "name": "stdout",
     "text": [
      "Acknowledgement Number : 275444580310818\nAssessment Year : 2018-19\nType of House Property\n(i) Gross rent received/ receivable/ letable value\n0\n(ii) Tax paid to local authorities\n0\n(iii) Annual Value (i - ii)\n0\n(iv) 30% of Annual Value\n0\n(v) Interest payable on borrowed capital\n0\nB2\nHouse Property\n(vi) Income chargeable under the head 'House Property' (iii - iv - v)\n0\nB3\nIncome from Other Sources\n0\nB4\nGross Total Income (B1+B2+B3)(If loss, put the figure in negative)\n553600\nPART C - DEDUCTIONS AND TAXABLE TOTAL INCOME (Refer instructions for Deduction limit as per Income-tax Act)\nS.No.\nSection\nAmount\nSystem Calculated\n80C - Life insurance premia, deferred annuity, contributions to provident\nfund, subscription to certain equity shares or debentures, etc.\n0\n0\n80CCC - Payment in respect Pension Fund\n0\n0\n80CCD(1) - Contribution to pension scheme of Central Government\n0\n0\n80CCD(1B) - Contribution to pension scheme of Central Government\n0\n0\n80CCD(2) - Contribution to pension scheme of Central Government by\nemployer\n0\n0\n80CCG - Investment made under an equity savings scheme\n0\n0\n80D\n(A) Health Insurance Premium -\n0\n(B) Medical expenditure - Self and family (including senior and very senior\ncitizen)\n18450\n(C) Preventive health check-up -\n0\n18450\n80DD - Maintenance including medical treatment of a dependent who is a\nperson with disability -\n0\n0\n80DDB - Medical treatment of specified disease -\n0\n0\n80E - Interest on loan taken for higher education\n0\n0\n80EE - Interest on loan taken for residential house property\n0\n0\n80G - Donations to certain funds, charitable institutions, etc\n0\n0\n80GG - Rent paid\n0\n0\n80GGA - Certain donations for scientific research or rural development\n0\n0\n80GGC - Donation to Political party\n0\n0\n80RRB - Royalty on patents\n0\n0\n80QQB - Royalty income of authors of certain books.\n0\n0\n80TTA - Income from Interest on saving bank Accounts\n0\n0\nPage \n2\n\n"
     ]
    }
   ],
   "source": [
    "print(pageObj.extractText())"
   ]
  },
  {
   "cell_type": "code",
   "execution_count": 11,
   "metadata": {},
   "outputs": [],
   "source": [
    "Pdf_String=pageObj.extractText()"
   ]
  },
  {
   "cell_type": "code",
   "execution_count": 12,
   "metadata": {},
   "outputs": [
    {
     "output_type": "stream",
     "name": "stdout",
     "text": [
      "Acknowledgement Number : 275444580310818\nAssessment Year : 2018-19\nType of House Property\n(i) Gross rent received/ receivable/ letable value\n0\n(ii) Tax paid to local authorities\n0\n(iii) Annual Value (i - ii)\n0\n(iv) 30% of Annual Value\n0\n(v) Interest payable on borrowed capital\n0\nB2\nHouse Property\n(vi) Income chargeable under the head 'House Property' (iii - iv - v)\n0\nB3\nIncome from Other Sources\n0\nB4\nGross Total Income (B1+B2+B3)(If loss, put the figure in negative)\n553600\nPART C - DEDUCTIONS AND TAXABLE TOTAL INCOME (Refer instructions for Deduction limit as per Income-tax Act)\nS.No.\nSection\nAmount\nSystem Calculated\n80C - Life insurance premia, deferred annuity, contributions to provident\nfund, subscription to certain equity shares or debentures, etc.\n0\n0\n80CCC - Payment in respect Pension Fund\n0\n0\n80CCD(1) - Contribution to pension scheme of Central Government\n0\n0\n80CCD(1B) - Contribution to pension scheme of Central Government\n0\n0\n80CCD(2) - Contribution to pension scheme of Central Government by\nemployer\n0\n0\n80CCG - Investment made under an equity savings scheme\n0\n0\n80D\n(A) Health Insurance Premium -\n0\n(B) Medical expenditure - Self and family (including senior and very senior\ncitizen)\n18450\n(C) Preventive health check-up -\n0\n18450\n80DD - Maintenance including medical treatment of a dependent who is a\nperson with disability -\n0\n0\n80DDB - Medical treatment of specified disease -\n0\n0\n80E - Interest on loan taken for higher education\n0\n0\n80EE - Interest on loan taken for residential house property\n0\n0\n80G - Donations to certain funds, charitable institutions, etc\n0\n0\n80GG - Rent paid\n0\n0\n80GGA - Certain donations for scientific research or rural development\n0\n0\n80GGC - Donation to Political party\n0\n0\n80RRB - Royalty on patents\n0\n0\n80QQB - Royalty income of authors of certain books.\n0\n0\n80TTA - Income from Interest on saving bank Accounts\n0\n0\nPage \n2\n\n"
     ]
    }
   ],
   "source": [
    "print(Pdf_String)"
   ]
  },
  {
   "cell_type": "code",
   "execution_count": 13,
   "metadata": {},
   "outputs": [
    {
     "output_type": "stream",
     "name": "stdout",
     "text": [
      "Collecting tabula-py\n",
      "  Downloading tabula_py-2.2.0-py3-none-any.whl (11.7 MB)\n",
      "\u001b[K     |████████████████████████████████| 11.7 MB 6.5 MB/s \n",
      "\u001b[?25hCollecting pandas>=0.25.3\n",
      "  Downloading pandas-1.2.4-cp38-cp38-manylinux1_x86_64.whl (9.7 MB)\n",
      "\u001b[K     |████████████████████████████████| 9.7 MB 6.3 MB/s \n",
      "\u001b[?25hRequirement already satisfied: numpy in /home/nikhil/Desktop/GazeTrack/venv/lib/python3.8/site-packages (from tabula-py) (1.20.1)\n",
      "Requirement already satisfied: distro in /home/nikhil/Desktop/GazeTrack/venv/lib/python3.8/site-packages (from tabula-py) (1.4.0)\n",
      "Collecting pytz>=2017.3\n",
      "  Using cached pytz-2021.1-py2.py3-none-any.whl (510 kB)\n",
      "Requirement already satisfied: python-dateutil>=2.7.3 in /home/nikhil/Desktop/GazeTrack/venv/lib/python3.8/site-packages (from pandas>=0.25.3->tabula-py) (2.8.1)\n",
      "Requirement already satisfied: six>=1.5 in /home/nikhil/Desktop/GazeTrack/venv/lib/python3.8/site-packages (from python-dateutil>=2.7.3->pandas>=0.25.3->tabula-py) (1.14.0)\n",
      "Installing collected packages: pytz, pandas, tabula-py\n",
      "Successfully installed pandas-1.2.4 pytz-2021.1 tabula-py-2.2.0\n"
     ]
    }
   ],
   "source": [
    "!pip install tabula-py"
   ]
  },
  {
   "cell_type": "code",
   "execution_count": 15,
   "metadata": {},
   "outputs": [
    {
     "output_type": "stream",
     "name": "stderr",
     "text": [
      "'pages' argument isn't specified.Will extract only from page 1 by default.\n",
      "Got stderr: May 26, 2021 1:39:52 PM org.apache.pdfbox.pdmodel.font.FileSystemFontProvider loadDiskCache\n",
      "WARNING: New fonts found, font cache will be re-built\n",
      "May 26, 2021 1:39:52 PM org.apache.pdfbox.pdmodel.font.FileSystemFontProvider <init>\n",
      "WARNING: Building on-disk font cache, this may take a while\n",
      "May 26, 2021 1:39:54 PM org.apache.pdfbox.pdmodel.font.FileSystemFontProvider <init>\n",
      "WARNING: Finished building on-disk font cache, found 388 fonts\n",
      "May 26, 2021 1:39:54 PM org.apache.pdfbox.pdmodel.font.PDType1Font <init>\n",
      "WARNING: Using fallback font ArialMT for base font Symbol\n",
      "May 26, 2021 1:39:54 PM org.apache.pdfbox.pdmodel.font.PDType1Font <init>\n",
      "WARNING: Using fallback font ArialMT for base font ZapfDingbats\n",
      "\n"
     ]
    },
    {
     "output_type": "execute_result",
     "data": {
      "text/plain": [
       "[{'extraction_method': 'stream',\n",
       "  'top': 41.0,\n",
       "  'left': 27.0,\n",
       "  'width': 539.0,\n",
       "  'height': 733.0,\n",
       "  'right': 566.0,\n",
       "  'bottom': 774.0,\n",
       "  'data': [[{'top': 42.65,\n",
       "     'left': 96.47,\n",
       "     'width': 65.52000427246094,\n",
       "     'height': 4.159999847412109,\n",
       "     'text': 'Salary / Pension'}],\n",
       "   [{'top': 50.25,\n",
       "     'left': 154.48,\n",
       "     'width': 286.30999755859375,\n",
       "     'height': 5.400000095367432,\n",
       "     'text': 'ITR-1 SAHAJ INDIVIDUAL INCOME TAX RETURN'}],\n",
       "   [{'top': 71.25,\n",
       "     'left': 105.16,\n",
       "     'width': 384.9499816894531,\n",
       "     'height': 4.5,\n",
       "     'text': '[For individuals being a resident other than not ordinarily resident having Income from Salaries,'}],\n",
       "   [{'top': 91.25,\n",
       "     'left': 118.5,\n",
       "     'width': 358.2699890136719,\n",
       "     'height': 4.5,\n",
       "     'text': 'one house property, other sources (Interest etc.) and having total income upto Rs.50 lakh]'}],\n",
       "   [{'top': 111.25,\n",
       "     'left': 230.84,\n",
       "     'width': 133.59999084472656,\n",
       "     'height': 4.5,\n",
       "     'text': '(Refer instructions for eligibility)'}],\n",
       "   [{'top': 132.3,\n",
       "     'left': 33.65,\n",
       "     'width': 132.66000366210938,\n",
       "     'height': 3.5999999046325684,\n",
       "     'text': 'PART A GENERAL INFORMATION'}],\n",
       "   [{'top': 152.88,\n",
       "     'left': 33.65,\n",
       "     'width': 230.58001708984375,\n",
       "     'height': 3.5999999046325684,\n",
       "     'text': 'Name SHASHANK SHARMA'}],\n",
       "   [{'top': 173.48,\n",
       "     'left': 33.65,\n",
       "     'width': 445.77001953125,\n",
       "     'height': 3.5999999046325684,\n",
       "     'text': 'PAN FATPS1551L Date of Birth (DD/MM/YYYY) 07/01/1992'}],\n",
       "   [{'top': 194.08,\n",
       "     'left': 33.65,\n",
       "     'width': 510.8899841308594,\n",
       "     'height': 3.5999999046325684,\n",
       "     'text': 'Mobile no 91 - 9988370192 Email Address shashank_sharma07@ya hoo.in'}],\n",
       "   [{'top': 214.68,\n",
       "     'left': 33.65,\n",
       "     'width': 328.05999755859375,\n",
       "     'height': 3.5999999046325684,\n",
       "     'text': 'Aadhaar Number (Please enter the Aadhaar Number if alloted) 321512031884'}],\n",
       "   [{'top': 235.3,\n",
       "     'left': 33.65,\n",
       "     'width': 27.98999786376953,\n",
       "     'height': 3.5999999046325684,\n",
       "     'text': 'Address'}],\n",
       "   [{'top': 255.88,\n",
       "     'left': 33.65,\n",
       "     'width': 402.7200012207031,\n",
       "     'height': 3.5999999046325684,\n",
       "     'text': 'Flat / Door / Block No 572, Street No 5, Gu ru Nanak Nagar Name of Premises / Building / Village'}],\n",
       "   [{'top': 276.48,\n",
       "     'left': 33.65,\n",
       "     'width': 470.1800231933594,\n",
       "     'height': 3.5999999046325684,\n",
       "     'text': 'Road/ Street Area/ Locality Guru Nanak Nagar'}],\n",
       "   [{'top': 297.08,\n",
       "     'left': 33.65,\n",
       "     'width': 439.54998779296875,\n",
       "     'height': 3.5999999046325684,\n",
       "     'text': 'Town/ City/ District Patiala State PUNJAB'}],\n",
       "   [{'top': 317.68,\n",
       "     'left': 33.65,\n",
       "     'width': 174.79998779296875,\n",
       "     'height': 3.5999999046325684,\n",
       "     'text': 'PIN Code 147001'}],\n",
       "   [{'top': 338.3,\n",
       "     'left': 33.65,\n",
       "     'width': 43.339996337890625,\n",
       "     'height': 3.5999999046325684,\n",
       "     'text': 'Filing Status'}],\n",
       "   [{'top': 358.88,\n",
       "     'left': 33.65,\n",
       "     'width': 355.239990234375,\n",
       "     'height': 3.5999999046325684,\n",
       "     'text': 'Employer category (If in employment) Others'}],\n",
       "   [{'top': 379.48,\n",
       "     'left': 33.65,\n",
       "     'width': 520.760009765625,\n",
       "     'height': 3.5999999046325684,\n",
       "     'text': 'Section Voluntarily on or before the due date under section 139(1)'}],\n",
       "   [{'top': 400.08,\n",
       "     'left': 33.65,\n",
       "     'width': 360.58001708984375,\n",
       "     'height': 3.5999999046325684,\n",
       "     'text': 'Filing Type Original'}],\n",
       "   [{'top': 420.7,\n",
       "     'left': 33.65,\n",
       "     'width': 106.87000274658203,\n",
       "     'height': 3.5999999046325684,\n",
       "     'text': 'In case of Revised/Rectification'}],\n",
       "   [{'top': 441.28,\n",
       "     'left': 33.65,\n",
       "     'width': 117.29999542236328,\n",
       "     'height': 3.5999999046325684,\n",
       "     'text': 'Original Acknowledgement Number'}],\n",
       "   [{'top': 461.88,\n",
       "     'left': 33.65,\n",
       "     'width': 162.86000061035156,\n",
       "     'height': 3.5999999046325684,\n",
       "     'text': 'Date of filing of Original Return(DD/MM/YYYY)'}],\n",
       "   [{'top': 482.5,\n",
       "     'left': 33.65,\n",
       "     'width': 239.2799835205078,\n",
       "     'height': 3.5999999046325684,\n",
       "     'text': 'If under section: 139(9) - return in response to defective return notice:'}],\n",
       "   [{'top': 503.08,\n",
       "     'left': 33.65,\n",
       "     'width': 117.29999542236328,\n",
       "     'height': 3.5999999046325684,\n",
       "     'text': 'Original Acknowledgement Number'}],\n",
       "   [{'top': 523.68,\n",
       "     'left': 33.65,\n",
       "     'width': 164.86000061035156,\n",
       "     'height': 3.5999999046325684,\n",
       "     'text': 'Date of filing of Original Return (DD/MM/YYYY)'}],\n",
       "   [{'top': 544.28,\n",
       "     'left': 33.65,\n",
       "     'width': 49.53999710083008,\n",
       "     'height': 3.5999999046325684,\n",
       "     'text': 'Notice Number'}],\n",
       "   [{'top': 564.88,\n",
       "     'left': 33.65,\n",
       "     'width': 295.9499816894531,\n",
       "     'height': 3.5999999046325684,\n",
       "     'text': 'If filed in response to notice u/s 139(9)/142(1)/148/153A/153C, enter the date of such notice'}],\n",
       "   [{'top': 585.48,\n",
       "     'left': 33.65,\n",
       "     'width': 343.69000244140625,\n",
       "     'height': 3.5999999046325684,\n",
       "     'text': 'Are you governed by Portuguese Civil Code as per section 5A ? No'}],\n",
       "   [{'top': 606.08,\n",
       "     'left': 33.65,\n",
       "     'width': 96.43000030517578,\n",
       "     'height': 3.5999999046325684,\n",
       "     'text': 'If Yes,Fill PAN of the Spouse'}],\n",
       "   [{'top': 626.7,\n",
       "     'left': 33.65,\n",
       "     'width': 91.98999786376953,\n",
       "     'height': 3.5999999046325684,\n",
       "     'text': 'Part B Gross Total Income'}],\n",
       "   [{'top': 647.28,\n",
       "     'left': 37.14,\n",
       "     'width': 524.489990234375,\n",
       "     'height': 3.5999999046325684,\n",
       "     'text': 'B1 (i) Salary (excluding all allowances, perquisites and profit in lieu of salary) 553600'}],\n",
       "   [{'top': 667.88,\n",
       "     'left': 60.58,\n",
       "     'width': 501.04998779296875,\n",
       "     'height': 3.5999999046325684,\n",
       "     'text': '(ii) Allowances not exempt 0'}],\n",
       "   [{'top': 688.48,\n",
       "     'left': 60.58,\n",
       "     'width': 501.04998779296875,\n",
       "     'height': 3.5999999046325684,\n",
       "     'text': '(iii) Value of perquisites 0'}],\n",
       "   [{'top': 709.08,\n",
       "     'left': 60.58,\n",
       "     'width': 501.04998779296875,\n",
       "     'height': 3.5999999046325684,\n",
       "     'text': '(iv) Profits in lieu of salary 0'}],\n",
       "   [{'top': 729.68,\n",
       "     'left': 60.58,\n",
       "     'width': 501.04998779296875,\n",
       "     'height': 3.5999999046325684,\n",
       "     'text': '(v) Deduction u/s 16 0'}],\n",
       "   [{'top': 750.28,\n",
       "     'left': 60.58,\n",
       "     'width': 501.04998779296875,\n",
       "     'height': 3.5999999046325684,\n",
       "     'text': \"(vi) Income chargeable under the Head 'Salaries' (i+ii+iii+iv-v) 553600\"}]]}]"
      ]
     },
     "metadata": {},
     "execution_count": 15
    }
   ],
   "source": [
    "import tabula\n",
    "tabula.read_pdf(\"tst_json.pdf\", output_format=\"json\")\n"
   ]
  },
  {
   "cell_type": "code",
   "execution_count": null,
   "metadata": {},
   "outputs": [],
   "source": []
  }
 ]
}